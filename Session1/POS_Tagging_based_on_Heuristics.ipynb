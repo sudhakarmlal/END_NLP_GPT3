{
  "nbformat": 4,
  "nbformat_minor": 0,
  "metadata": {
    "colab": {
      "name": "POS_Tagging_based_on_Heuristics.ipynb",
      "provenance": [],
      "collapsed_sections": [],
      "include_colab_link": true
    },
    "kernelspec": {
      "name": "python3",
      "display_name": "Python 3"
    }
  },
  "cells": [
    {
      "cell_type": "markdown",
      "metadata": {
        "id": "view-in-github",
        "colab_type": "text"
      },
      "source": [
        "<a href=\"https://colab.research.google.com/github/sudhakarmlal/END_NLP_GPT3/blob/main/Session1/POS_Tagging_based_on_Heuristics.ipynb\" target=\"_parent\"><img src=\"https://colab.research.google.com/assets/colab-badge.svg\" alt=\"Open In Colab\"/></a>"
      ]
    },
    {
      "cell_type": "markdown",
      "metadata": {
        "id": "mM0Ka5OWjTtn"
      },
      "source": [
        "##Import necessary Libraries"
      ]
    },
    {
      "cell_type": "code",
      "metadata": {
        "id": "HUkH-XafjF18",
        "cellView": "both",
        "outputId": "ed5cb7bf-f30c-4a95-cd25-ee0fde255108",
        "colab": {
          "base_uri": "https://localhost:8080/",
          "height": 121
        }
      },
      "source": [
        "import nltk\n",
        "from nltk.tokenize import word_tokenize\n",
        "from nltk.tag import pos_tag\n",
        "from nltk.chunk import ne_chunk\n",
        "nltk.download('punkt')\n",
        "nltk.download('averaged_perceptron_tagger')"
      ],
      "execution_count": 2,
      "outputs": [
        {
          "output_type": "stream",
          "text": [
            "[nltk_data] Downloading package punkt to /root/nltk_data...\n",
            "[nltk_data]   Unzipping tokenizers/punkt.zip.\n",
            "[nltk_data] Downloading package averaged_perceptron_tagger to\n",
            "[nltk_data]     /root/nltk_data...\n",
            "[nltk_data]   Unzipping taggers/averaged_perceptron_tagger.zip.\n"
          ],
          "name": "stdout"
        },
        {
          "output_type": "execute_result",
          "data": {
            "text/plain": [
              "True"
            ]
          },
          "metadata": {
            "tags": []
          },
          "execution_count": 2
        }
      ]
    },
    {
      "cell_type": "markdown",
      "metadata": {
        "id": "CnfJWQfEjn89"
      },
      "source": [
        "## A sentence under consideration for Information Extraction (NER)"
      ]
    },
    {
      "cell_type": "code",
      "metadata": {
        "id": "1nOjV-QMjlBF"
      },
      "source": [
        "sentence = 'Virat Kohli is an Indian cricketer who currently captains the India national team. A right-handed top-order batsman, Kohli is regarded as one of the best batsmen in the world'"
      ],
      "execution_count": 3,
      "outputs": []
    },
    {
      "cell_type": "markdown",
      "metadata": {
        "id": "wwc64Wajjv95"
      },
      "source": [
        "## Apply word tokenization and part-of-speech tagging to the sentence"
      ]
    },
    {
      "cell_type": "code",
      "metadata": {
        "id": "rrJPkc2MjtwW"
      },
      "source": [
        "def preprocess(sent):\n",
        "    sent = word_tokenize(sent) # TOKENIZE THE SENTENCE\n",
        "    sent = pos_tag(sent) # GET POS TAG OF THE SENTENCE\n",
        "    return sent"
      ],
      "execution_count": 4,
      "outputs": []
    },
    {
      "cell_type": "code",
      "metadata": {
        "id": "xKv51GotjyZU",
        "outputId": "408a28b0-d2a2-47ce-e3b3-08f46c9d7886",
        "colab": {
          "base_uri": "https://localhost:8080/",
          "height": 555
        }
      },
      "source": [
        "sent = preprocess(sentence)\n",
        "sent ## The output contains word tokens and the part of speech(POS)"
      ],
      "execution_count": 5,
      "outputs": [
        {
          "output_type": "execute_result",
          "data": {
            "text/plain": [
              "[('Virat', 'NNP'),\n",
              " ('Kohli', 'NNP'),\n",
              " ('is', 'VBZ'),\n",
              " ('an', 'DT'),\n",
              " ('Indian', 'JJ'),\n",
              " ('cricketer', 'NN'),\n",
              " ('who', 'WP'),\n",
              " ('currently', 'RB'),\n",
              " ('captains', 'VBZ'),\n",
              " ('the', 'DT'),\n",
              " ('India', 'NNP'),\n",
              " ('national', 'JJ'),\n",
              " ('team', 'NN'),\n",
              " ('.', '.'),\n",
              " ('A', 'DT'),\n",
              " ('right-handed', 'JJ'),\n",
              " ('top-order', 'NN'),\n",
              " ('batsman', 'NN'),\n",
              " (',', ','),\n",
              " ('Kohli', 'NNP'),\n",
              " ('is', 'VBZ'),\n",
              " ('regarded', 'VBN'),\n",
              " ('as', 'IN'),\n",
              " ('one', 'CD'),\n",
              " ('of', 'IN'),\n",
              " ('the', 'DT'),\n",
              " ('best', 'JJS'),\n",
              " ('batsmen', 'NNS'),\n",
              " ('in', 'IN'),\n",
              " ('the', 'DT'),\n",
              " ('world', 'NN')]"
            ]
          },
          "metadata": {
            "tags": []
          },
          "execution_count": 5
        }
      ]
    },
    {
      "cell_type": "code",
      "metadata": {
        "id": "surtsIRm-O5H"
      },
      "source": [
        "pos_list=[sent[idx][1] for idx,rec in enumerate(sent)]"
      ],
      "execution_count": 6,
      "outputs": []
    },
    {
      "cell_type": "code",
      "metadata": {
        "id": "dE8YlT6AY2Qm"
      },
      "source": [
        "import collections\n",
        "freq_dict=collections.Counter(pos_list) ## Get a dict of tags and tag counts"
      ],
      "execution_count": 7,
      "outputs": []
    },
    {
      "cell_type": "code",
      "metadata": {
        "id": "pPviuW9RZxII",
        "outputId": "469cb6e1-90f6-4540-8015-307c526cfd06",
        "colab": {
          "base_uri": "https://localhost:8080/",
          "height": 256
        }
      },
      "source": [
        "import matplotlib.pyplot as plt\n",
        "plt.figure(figsize=(20,3))\n",
        "plt.xlabel('POS Tags')\n",
        "plt.ylabel('Count Tags')\n",
        "plt.title('Tag frequency Hisogram')\n",
        "X=freq_dict.keys()\n",
        "Y=freq_dict.values()\n",
        "plt.bar(X,Y)"
      ],
      "execution_count": 8,
      "outputs": [
        {
          "output_type": "execute_result",
          "data": {
            "text/plain": [
              "<BarContainer object of 14 artists>"
            ]
          },
          "metadata": {
            "tags": []
          },
          "execution_count": 8
        },
        {
          "output_type": "display_data",
          "data": {
            "image/png": "[encoded data removed]",
            "text/plain": [
              "<Figure size 1440x216 with 1 Axes>"
            ]
          },
          "metadata": {
            "tags": [],
            "needs_background": "light"
          }
        }
      ]
    },
    {
      "cell_type": "code",
      "metadata": {
        "id": "Jr0VF3fSemzd",
        "outputId": "36f4bf98-d2f9-4efa-a1ef-70ce908bc0b7",
        "colab": {
          "base_uri": "https://localhost:8080/",
          "height": 121
        }
      },
      "source": [
        "## To know what each tagging means download tagsets first and pass the desired tag as argument to the below function.\n",
        "## if passed none then entire tag set is explained\n",
        "nltk.download('tagsets')\n",
        "nltk.help.upenn_tagset('NN') ## will explain only JJS,if left blank then entire tag set is explained."
      ],
      "execution_count": 15,
      "outputs": [
        {
          "output_type": "stream",
          "text": [
            "[nltk_data] Downloading package tagsets to /root/nltk_data...\n",
            "[nltk_data]   Unzipping help/tagsets.zip.\n",
            "NN: noun, common, singular or mass\n",
            "    common-carrier cabbage knuckle-duster Casino afghan shed thermostat\n",
            "    investment slide humour falloff slick wind hyena override subhumanity\n",
            "    machinist ...\n"
          ],
          "name": "stdout"
        }
      ]
    },
    {
      "cell_type": "code",
      "metadata": {
        "id": "TK-kQOw8fQpB",
        "outputId": "501635c1-3080-4fc3-df69-5de940ba695d",
        "colab": {
          "base_uri": "https://localhost:8080/",
          "height": 34
        }
      },
      "source": [
        "## lets also see what are the most common occuring words.\n",
        "most_popular=5\n",
        "collections.Counter(word_tokenize(sentence)).most_common(most_popular)"
      ],
      "execution_count": null,
      "outputs": [
        {
          "output_type": "execute_result",
          "data": {
            "text/plain": [
              "[('the', 3), ('Kohli', 2), ('is', 2), ('Virat', 1), ('an', 1)]"
            ]
          },
          "metadata": {
            "tags": []
          },
          "execution_count": 9
        }
      ]
    },
    {
      "cell_type": "markdown",
      "metadata": {
        "id": "5ZfnCIBOlP32"
      },
      "source": [
        "\n",
        "## Plot a Parse Tree"
      ]
    },
    {
      "cell_type": "code",
      "metadata": {
        "id": "_0JJm0tp3iqY",
        "outputId": "fe1d2714-a95a-44a0-b24b-b13bf94f0eeb",
        "colab": {
          "base_uri": "https://localhost:8080/",
          "height": 70
        }
      },
      "source": [
        " \"\"\"\n",
        " Chunking is a process by which a shallow parsing is done on the obtained POS taggings.\n",
        " the input to chunling is the POS list that contains the word and sentences aling with the POS patterns we want to chunk.\n",
        "? = 0 or 1 match of the preceding expression\n",
        "* = 0 or more match of the preceding expression\n",
        "+ = 1 or more match of the preceding expression  \n",
        ". = specifies any single character except a new line character\n",
        "\"\"\""
      ],
      "execution_count": 10,
      "outputs": [
        {
          "output_type": "execute_result",
          "data": {
            "application/vnd.google.colaboratory.intrinsic+json": {
              "type": "string"
            },
            "text/plain": [
              "'\\nChunking is a process by which a shallow parsing is done on the obtained POS taggings.\\nthe input to chunling is the POS list that contains the word and sentences aling with the POS patterns we want to chunk.\\n? = 0 or 1 match of the preceding expression\\n* = 0 or more match of the preceding expression\\n+ = 1 or more match of the preceding expression  \\n. = specifies any single character except a new line character\\n'"
            ]
          },
          "metadata": {
            "tags": []
          },
          "execution_count": 10
        }
      ]
    },
    {
      "cell_type": "code",
      "metadata": {
        "id": "3SFMBOJhj0kD"
      },
      "source": [
        "from nltk import RegexpParser ## import this REgex parser\n",
        "pattern = 'NP: {<DT>?<JJ>*<NN>}' ## here the pattern to be chunked is DT,JJ and NN so only these would be considered to be chunked\n",
        "NPChunker =  RegexpParser(pattern)# Regex Parse using the pattern\n",
        "result_ch = NPChunker.parse(sent)\n",
        "#result.draw()"
      ],
      "execution_count": 11,
      "outputs": []
    },
    {
      "cell_type": "code",
      "metadata": {
        "id": "z7JiXp18T56Z",
        "outputId": "a2da922a-d838-4645-aa43-0cbe000efbd3",
        "colab": {
          "base_uri": "https://localhost:8080/",
          "height": 468
        }
      },
      "source": [
        "print(result_ch)"
      ],
      "execution_count": 12,
      "outputs": [
        {
          "output_type": "stream",
          "text": [
            "(S\n",
            "  Virat/NNP\n",
            "  Kohli/NNP\n",
            "  is/VBZ\n",
            "  (NP an/DT Indian/JJ cricketer/NN)\n",
            "  who/WP\n",
            "  currently/RB\n",
            "  captains/VBZ\n",
            "  the/DT\n",
            "  India/NNP\n",
            "  (NP national/JJ team/NN)\n",
            "  ./.\n",
            "  (NP A/DT right-handed/JJ top-order/NN)\n",
            "  (NP batsman/NN)\n",
            "  ,/,\n",
            "  Kohli/NNP\n",
            "  is/VBZ\n",
            "  regarded/VBN\n",
            "  as/IN\n",
            "  one/CD\n",
            "  of/IN\n",
            "  the/DT\n",
            "  best/JJS\n",
            "  batsmen/NNS\n",
            "  in/IN\n",
            "  (NP the/DT world/NN))\n"
          ],
          "name": "stdout"
        }
      ]
    },
    {
      "cell_type": "markdown",
      "metadata": {
        "id": "mzfWmM0s3qLQ"
      },
      "source": [
        "## POS Tags"
      ]
    },
    {
      "cell_type": "code",
      "metadata": {
        "id": "6lUv0-IX0V-v",
        "outputId": "c68f16e0-3ee7-4dfd-c67f-201e33f5c37d",
        "colab": {
          "base_uri": "https://localhost:8080/",
          "height": 555
        }
      },
      "source": [
        "from nltk.chunk import conlltags2tree, tree2conlltags\n",
        "from pprint import pprint\n",
        "iob_tagged = tree2conlltags(result_ch)\n",
        "pprint(iob_tagged)"
      ],
      "execution_count": 13,
      "outputs": [
        {
          "output_type": "stream",
          "text": [
            "[('Virat', 'NNP', 'O'),\n",
            " ('Kohli', 'NNP', 'O'),\n",
            " ('is', 'VBZ', 'O'),\n",
            " ('an', 'DT', 'B-NP'),\n",
            " ('Indian', 'JJ', 'I-NP'),\n",
            " ('cricketer', 'NN', 'I-NP'),\n",
            " ('who', 'WP', 'O'),\n",
            " ('currently', 'RB', 'O'),\n",
            " ('captains', 'VBZ', 'O'),\n",
            " ('the', 'DT', 'O'),\n",
            " ('India', 'NNP', 'O'),\n",
            " ('national', 'JJ', 'B-NP'),\n",
            " ('team', 'NN', 'I-NP'),\n",
            " ('.', '.', 'O'),\n",
            " ('A', 'DT', 'B-NP'),\n",
            " ('right-handed', 'JJ', 'I-NP'),\n",
            " ('top-order', 'NN', 'I-NP'),\n",
            " ('batsman', 'NN', 'B-NP'),\n",
            " (',', ',', 'O'),\n",
            " ('Kohli', 'NNP', 'O'),\n",
            " ('is', 'VBZ', 'O'),\n",
            " ('regarded', 'VBN', 'O'),\n",
            " ('as', 'IN', 'O'),\n",
            " ('one', 'CD', 'O'),\n",
            " ('of', 'IN', 'O'),\n",
            " ('the', 'DT', 'O'),\n",
            " ('best', 'JJS', 'O'),\n",
            " ('batsmen', 'NNS', 'O'),\n",
            " ('in', 'IN', 'O'),\n",
            " ('the', 'DT', 'B-NP'),\n",
            " ('world', 'NN', 'I-NP')]\n"
          ],
          "name": "stdout"
        }
      ]
    },
    {
      "cell_type": "markdown",
      "metadata": {
        "id": "GsWTk0dX4DN8"
      },
      "source": [
        "**This is how Information is extracted using heuristics based techniques. Try using another pattern.**"
      ]
    },
    {
      "cell_type": "code",
      "metadata": {
        "id": "hGPurTlb3tWd",
        "outputId": "c6c79afb-e4c9-4483-f304-82e1a0f380ef",
        "colab": {
          "base_uri": "https://localhost:8080/",
          "height": 572
        }
      },
      "source": [
        "pattern2 = 'NP2: {<JJ>?<NNP>*<RB>}' ##\n",
        "NPChunker2 =  RegexpParser(pattern2)# Regex Parse using the pattern\n",
        "result_ch2 = NPChunker2.parse(sent)\n",
        "print(result_ch2)"
      ],
      "execution_count": 14,
      "outputs": [
        {
          "output_type": "stream",
          "text": [
            "(S\n",
            "  Virat/NNP\n",
            "  Kohli/NNP\n",
            "  is/VBZ\n",
            "  an/DT\n",
            "  Indian/JJ\n",
            "  cricketer/NN\n",
            "  who/WP\n",
            "  (NP2 currently/RB)\n",
            "  captains/VBZ\n",
            "  the/DT\n",
            "  India/NNP\n",
            "  national/JJ\n",
            "  team/NN\n",
            "  ./.\n",
            "  A/DT\n",
            "  right-handed/JJ\n",
            "  top-order/NN\n",
            "  batsman/NN\n",
            "  ,/,\n",
            "  Kohli/NNP\n",
            "  is/VBZ\n",
            "  regarded/VBN\n",
            "  as/IN\n",
            "  one/CD\n",
            "  of/IN\n",
            "  the/DT\n",
            "  best/JJS\n",
            "  batsmen/NNS\n",
            "  in/IN\n",
            "  the/DT\n",
            "  world/NN)\n"
          ],
          "name": "stdout"
        }
      ]
    }
  ]
}